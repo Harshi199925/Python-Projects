{
  "nbformat": 4,
  "nbformat_minor": 0,
  "metadata": {
    "colab": {
      "provenance": []
    },
    "kernelspec": {
      "name": "python3",
      "display_name": "Python 3"
    },
    "language_info": {
      "name": "python"
    }
  },
  "cells": [
    {
      "cell_type": "markdown",
      "source": [
        "# Rock Paper Scissor game against computer"
      ],
      "metadata": {
        "id": "2i6HxUfLCWPu"
      }
    },
    {
      "cell_type": "code",
      "execution_count": 1,
      "metadata": {
        "id": "qOV9p3CB8-uj",
        "colab": {
          "base_uri": "https://localhost:8080/"
        },
        "outputId": "b7117e7a-cd55-40d5-a102-cbe76de910c1"
      },
      "outputs": [
        {
          "output_type": "stream",
          "name": "stdout",
          "text": [
            "Select Rock, Paper, or Scissor :rock\n",
            "Computer selected:  paper\n",
            "Computer Won!\n"
          ]
        }
      ],
      "source": [
        "import random\n",
        "\n",
        "player1 = input(\"Select Rock, Paper, or Scissor :\").lower()\n",
        "computer = random.choice([\"Rock\", \"Paper\", \"Scissor\"]).lower()\n",
        "print(\"Computer selected: \", computer)\n",
        "\n",
        "if player1 == \"rock\" and computer == \"paper\":\n",
        "    print(\"Computer Won!\")\n",
        "elif player1 == \"paper\" and computer == \"scissor\":\n",
        "    print(\"Computer Won!\")\n",
        "elif player1 == \"scissor!\" and computer == \"rock\":\n",
        "    print(\"Computer Won!\")\n",
        "elif player1 == computer:\n",
        "    print(\"Tie\")\n",
        "else:\n",
        "    print(\"Congratulations! you Won\")"
      ]
    }
  ]
}