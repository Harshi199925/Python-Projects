{
  "nbformat": 4,
  "nbformat_minor": 0,
  "metadata": {
    "colab": {
      "provenance": []
    },
    "kernelspec": {
      "name": "python3",
      "display_name": "Python 3"
    },
    "language_info": {
      "name": "python"
    }
  },
  "cells": [
    {
      "cell_type": "markdown",
      "source": [
        "\n",
        "# Number Guessing Game\n",
        "## This is a simple program which allows user to guess a random number between 1 to 20."
      ],
      "metadata": {
        "id": "8oJbHE_6krCK"
      }
    },
    {
      "cell_type": "code",
      "source": [
        "import random\n",
        "n = random.randrange(1,20)\n",
        "### adds a random number between 1 and 20 in variable 'n' "
      ],
      "metadata": {
        "id": "jMZ7d6QllTtW"
      },
      "execution_count": 1,
      "outputs": []
    },
    {
      "cell_type": "code",
      "source": [
        "guess = int(input(\"Enter your guess between 1 and 20: \"))\n",
        "\n",
        "### allows the user to enter their number\n",
        "\n",
        "while n!= guess:\n",
        "  if guess < n :\n",
        "    print(\"Too Low\")\n",
        "    guess = int(input(\"Enter a number again:\"))\n",
        "  if guess > n :\n",
        "    print(\"Too High\")\n",
        "    guess = int(input(\"Enter a number again:\"))\n",
        "  else:\n",
        "     break\n",
        "\n",
        "### Checks the conditions for the number\n",
        "\n",
        "print(\"You guess is correct! The number is \", n)"
      ],
      "metadata": {
        "colab": {
          "base_uri": "https://localhost:8080/"
        },
        "id": "X60AHjHFlw_j",
        "outputId": "e4411cf3-05fe-4769-968b-625a25801652"
      },
      "execution_count": 2,
      "outputs": [
        {
          "output_type": "stream",
          "name": "stdout",
          "text": [
            "Enter your guess between 1 and 20: 15\n",
            "Too Low\n",
            "Enter a number again:19\n",
            "You guess is correct! The number is  19\n"
          ]
        }
      ]
    }
  ]
}